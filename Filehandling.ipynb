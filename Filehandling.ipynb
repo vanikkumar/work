{
  "nbformat": 4,
  "nbformat_minor": 0,
  "metadata": {
    "colab": {
      "provenance": []
    },
    "kernelspec": {
      "name": "python3",
      "display_name": "Python 3"
    },
    "language_info": {
      "name": "python"
    }
  },
  "cells": [
    {
      "cell_type": "code",
      "execution_count": null,
      "metadata": {
        "id": "1aPhAMA9IrTU"
      },
      "outputs": [],
      "source": []
    },
    {
      "cell_type": "markdown",
      "source": [
        "#1 Discuss the scenarios where multithreading is preferable to multiprocessing and scenarios where multiprocessing is a better choice.\n",
        "\n",
        "\n",
        "\n",
        "\n",
        "Multithreading is preferable to multiprocessing because:\n",
        "\n",
        "Lower memory overhead: Threads share the same memory space, making them lightweight compared to processes.\n",
        "Faster context switching: Switching between threads is quicker than processes since they share resources.\n",
        "Efficient for I/O-bound tasks: Threads excel in handling tasks that wait for input/output, reducing idle CPU time.\n",
        "Simpler inter-thread communication: Threads can easily share data through shared memory, avoiding the need for inter-process communication mechanisms."
      ],
      "metadata": {
        "id": "yXMLadwsJtq1"
      }
    },
    {
      "cell_type": "markdown",
      "source": [
        "#2. Describe what a process pool is and how it helps in managing multiple processes efficiently.\n",
        "\n",
        "\n",
        "pool allows us to do multiple works in a process which make easier to parallelize the program.\n",
        "you can effectively manage multiple processes, improve performance, and simplify the implementation of parallel tasks.\n",
        "the pool distributes the tasks to the available processors using a FIFO: First In First Out.\n",
        "\n",
        "\n",
        "how it helps in managing multiple processes efficiently.\n",
        "by distributting the work load in multiplrprocessor.\n",
        "each task submitted to the process pool may be a different target function"
      ],
      "metadata": {
        "id": "g978mkX9KEW3"
      }
    },
    {
      "cell_type": "markdown",
      "source": [
        "# 3.Explain what multiprocessing is and why it is used in Python programs.\n",
        "\n",
        "Multiprocessing in Python enables programs to run multiple processes simultaneously, allowing full use of multiple CPU cores. It is primarily used for CPU-bound tasks like heavy computations or data processing, where dividing the work among multiple processes can significantly boost performance. Each process operates independently with its own memory space, overcoming Python's Global Interpreter Lock (GIL) limitation, which restricts threads from executing Python bytecode in parallel. This makes multiprocessing ideal for tasks requiring parallel execution to improve efficiency.\n",
        "\n"
      ],
      "metadata": {
        "id": "QnM_BtVxKVUI"
      }
    },
    {
      "cell_type": "code",
      "source": [
        "#4. Write a Python program using multithreading where one thread adds numbers to a list, and another thread removes numbers from the list.\n",
        "#Implement a mechanism to avoid race conditions using threading.Lock\n",
        "import threading\n",
        "import time\n",
        "\n",
        "def adding(numb, lock):\n",
        "    for i in range(1, 11):  # Changed range to 1-10\n",
        "        with lock:\n",
        "            numb.append(i)\n",
        "            print(f\"Added: {i} -> List: {numb}\")\n",
        "        time.sleep(0.2)  # Increased sleep time for better sync with removal\n",
        "\n",
        "def removing(numb, lock):\n",
        "    for i in range(1, 11):  # Removing 10 elements (if available)\n",
        "        time.sleep(0.3)  # Delay to allow adding before attempting to remove\n",
        "        with lock:\n",
        "            if numb:\n",
        "                removed = numb.pop(0)\n",
        "                print(f\"Removed: {removed} -> List: {numb}\")\n",
        "            else:\n",
        "                print(\"No elements to remove.\")\n",
        "\n",
        "if __name__ == \"__main__\":\n",
        "    numb = []\n",
        "    lock = threading.Lock()\n",
        "\n",
        "    # Create threads for adding and removing numbers\n",
        "    thread1 = threading.Thread(target=adding, args=(numb, lock))\n",
        "    thread2 = threading.Thread(target=removing, args=(numb, lock))\n",
        "\n",
        "    thread1.start()\n",
        "    thread2.start()\n",
        "\n",
        "    thread1.join()\n",
        "    thread2.join()\n",
        "\n",
        "    print(\"Final List:\", numb)\n"
      ],
      "metadata": {
        "colab": {
          "base_uri": "https://localhost:8080/"
        },
        "id": "iQMgq7xyKyCE",
        "outputId": "77face11-ea3c-481c-d4a3-008b785e80f0"
      },
      "execution_count": 1,
      "outputs": [
        {
          "output_type": "stream",
          "name": "stdout",
          "text": [
            "Added: 0\n",
            "Removing: 0\n",
            "Added: 1\n",
            "Removing: 1\n",
            "Added: 2\n",
            "Removing: 2\n",
            "Added: 3\n",
            "Removing: 3\n",
            "Added: 4\n",
            "Removing: 4\n",
            "Added: 5\n",
            "Removing: 5\n",
            "Added: 6\n",
            "Removing: 6\n",
            "Added: 7\n",
            "Removing: 7\n",
            "Added: 8\n",
            "Removing: 8\n",
            "Added: 9\n",
            "Removing: 9\n"
          ]
        }
      ]
    },
    {
      "cell_type": "markdown",
      "source": [
        "#5. Describe the methods and tools available in Python for safely sharing data between threads and processes.\n",
        "Tools for Safely Sharing Data in Python:\n",
        "1. For Threads:\n",
        "threading.Lock: Ensures only one thread accesses shared data at a time to avoid race conditions.\n",
        "threading.RLock: A reentrant lock for a single thread to lock multiple times.\n",
        "threading.Event: Synchronizes threads by signaling an event.\n",
        "threading.Condition: Allows threads to wait for certain conditions to be met.\n",
        "queue.Queue: A thread-safe queue for exchanging data between threads.\n",
        "2. For Processes:\n",
        "multiprocessing.Queue: A process-safe queue for communication.\n",
        "multiprocessing.Pipe: Enables two-way communication between processes.\n",
        "multiprocessing.Manager: Creates shared objects like lists or dictionaries for safe access across processes."
      ],
      "metadata": {
        "id": "G_sQNO1NLQIB"
      }
    },
    {
      "cell_type": "markdown",
      "source": [
        "#6. Discuss why it’s crucial to handle exceptions in concurrent programs and the techniques available for doing so.\n",
        "\n",
        "Exception handling is crucial in concurrent programs because it helps ensure that the program runs smoothly and doesn't terminate unexpectedly due to errors. In concurrent environments, where multiple threads or processes run simultaneously, unhandled exceptions in one thread/process can impact the overall execution and stability.\n",
        "\n",
        "By handling exceptions, you ensure that errors are properly managed, allowing the program to continue executing other tasks, log errors, or clean up resources. Exception handling prevents abrupt terminations and ensures that the program can reach the final block, even when errors occur during execution."
      ],
      "metadata": {
        "id": "8bAlwm0rLwtQ"
      }
    },
    {
      "cell_type": "code",
      "source": [
        "#7. Create a program that uses a thread pool to calculate the factorial of numbers from 1 to 10 concurrently.\n",
        "#Use concurrent.futures.ThreadPoolExecutor to manage the threads.\n",
        "import concurrent.futures\n",
        "\n",
        "def factorial(n):\n",
        "    if n == 0:\n",
        "        return 1\n",
        "    else:\n",
        "        return n * factorial(n - 1)\n",
        "\n",
        "if __name__ == \"__main__\":\n",
        "    numbers = range(1, 11)\n",
        "\n",
        "    with concurrent.futures.ThreadPoolExecutor() as executor:\n",
        "        results = list(executor.map(factorial, numbers))\n",
        "\n",
        "    for num, fact in zip(numbers, results):\n",
        "        print(f\"Factorial of {num} is {fact}\")\n"
      ],
      "metadata": {
        "id": "2aDYWsiTMgvs"
      },
      "execution_count": null,
      "outputs": []
    },
    {
      "cell_type": "code",
      "source": [
        "#Create a Python program that uses multiprocessing.Pool to compute the square of numbers from 1 to 10 in parallel. Measure the time taken to perform this computation using a pool of different sizes (e.g., 2, 4, 8 processes).\n",
        "\n",
        "import multiprocessing\n",
        "import time\n",
        "\n",
        "def square(x):\n",
        "    return x * x\n",
        "\n",
        "def main():\n",
        "    numbers = range(1, 11)\n",
        "\n",
        "    pool_sizes = [2, 4, 8]\n",
        "    for size in pool_sizes:\n",
        "        start_time = time.time()\n",
        "\n",
        "        with multiprocessing.Pool(processes=size) as pool:\n",
        "            results = pool.map(square, numbers)\n",
        "\n",
        "        end_time = time.time()\n",
        "        elapsed_time = end_time - start_time\n",
        "        print(f\"Pool size {size}: Time taken = {elapsed_time:.3f} seconds\")\n",
        "\n",
        "if __name__ == \"__main__\":\n",
        "    main()"
      ],
      "metadata": {
        "id": "UU6cd3itM1R3"
      },
      "execution_count": null,
      "outputs": []
    }
  ]
}